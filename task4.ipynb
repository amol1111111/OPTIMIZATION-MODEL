{
 "cells": [
  {
   "cell_type": "code",
   "execution_count": 14,
   "id": "d00c161e",
   "metadata": {},
   "outputs": [],
   "source": [
    "# # 📦 Step 1: Import Libraries\n",
    "from pulp import *\n",
    "import pandas as pd\n"
   ]
  },
  {
   "cell_type": "code",
   "execution_count": 16,
   "id": "1f900c95",
   "metadata": {},
   "outputs": [],
   "source": [
    "# Step 2: Define Sets\n",
    "factories = ['F1', 'F2']\n",
    "products = ['P1', 'P2', 'P3']\n",
    "regions = ['R1', 'R2', 'R3']"
   ]
  },
  {
   "cell_type": "code",
   "execution_count": 17,
   "id": "cb4b83fe",
   "metadata": {},
   "outputs": [],
   "source": [
    "# Step 3: Factory Capacities (in hours)\n",
    "factory_capacity = {\n",
    "    'F1': 500,\n",
    "    'F2': 400\n",
    "}"
   ]
  },
  {
   "cell_type": "code",
   "execution_count": 18,
   "id": "a3a95c9b",
   "metadata": {},
   "outputs": [],
   "source": [
    "# Step 4: Production Time per Unit (hours)\n",
    "production_time = {\n",
    "    'F1': {'P1': 2, 'P2': 4, 'P3': 3},\n",
    "    'F2': {'P1': 3, 'P2': 2, 'P3': 3}\n",
    "}"
   ]
  },
  {
   "cell_type": "code",
   "execution_count": 19,
   "id": "ee4577ab",
   "metadata": {},
   "outputs": [],
   "source": [
    "# Step 5: Demand per Region\n",
    "demand = {\n",
    "    'R1': {'P1': 50, 'P2': 60, 'P3': 40},\n",
    "    'R2': {'P1': 30, 'P2': 40, 'P3': 30},\n",
    "    'R3': {'P1': 20, 'P2': 30, 'P3': 30}\n",
    "}"
   ]
  },
  {
   "cell_type": "code",
   "execution_count": 20,
   "id": "6ddf6d05",
   "metadata": {},
   "outputs": [],
   "source": [
    "# Step 6: Shipping Costs (₹ per unit)\n",
    "shipping_cost = {\n",
    "    'F1': {\n",
    "        'R1': {'P1': 4, 'P2': 5, 'P3': 6},\n",
    "        'R2': {'P1': 6, 'P2': 4, 'P3': 5},\n",
    "        'R3': {'P1': 3, 'P2': 6, 'P3': 4}\n",
    "    },\n",
    "    'F2': {\n",
    "        'R1': {'P1': 5, 'P2': 4, 'P3': 3},\n",
    "        'R2': {'P1': 4, 'P2': 5, 'P3': 6},\n",
    "        'R3': {'P1': 6, 'P2': 3, 'P3': 5}\n",
    "    }\n",
    "}"
   ]
  },
  {
   "cell_type": "code",
   "execution_count": 22,
   "id": "73230666",
   "metadata": {},
   "outputs": [],
   "source": [
    "# Step 7: Define Decision Variables\n",
    "x = LpVariable.dicts(\"ship\", (factories, regions, products), lowBound=0, cat=\"Integer\")"
   ]
  },
  {
   "cell_type": "code",
   "execution_count": 23,
   "id": "26b0f3f1",
   "metadata": {},
   "outputs": [],
   "source": [
    "# Step 8: Define the Problem\n",
    "model = LpProblem(\"Supply_Chain_Optimization\", LpMinimize)"
   ]
  },
  {
   "cell_type": "code",
   "execution_count": 25,
   "id": "1bae268b",
   "metadata": {},
   "outputs": [],
   "source": [
    "# Step 9: Objective Function - Minimize total cost\n",
    "model += lpSum(shipping_cost[f][r][p] * x[f][r][p]\n",
    "               for f in factories\n",
    "               for r in regions\n",
    "               for p in products), \"Total_Shipping_Cost\""
   ]
  },
  {
   "cell_type": "code",
   "execution_count": 26,
   "id": "b930683e",
   "metadata": {},
   "outputs": [],
   "source": [
    "# Step 10: Constraints\n",
    "\n",
    "# Demand fulfillment\n",
    "for r in regions:\n",
    "    for p in products:\n",
    "        model += lpSum(x[f][r][p] for f in factories) == demand[r][p], f\"Demand_{r}_{p}\"\n",
    "\n",
    "# Factory capacity\n",
    "for f in factories:\n",
    "    model += lpSum(production_time[f][p] * x[f][r][p]\n",
    "                   for r in regions\n",
    "                   for p in products) <= factory_capacity[f], f\"Capacity_{f}\""
   ]
  },
  {
   "cell_type": "code",
   "execution_count": null,
   "id": "00a03e64",
   "metadata": {},
   "outputs": [
    {
     "data": {
      "text/plain": [
       "1"
      ]
     },
     "execution_count": 27,
     "metadata": {},
     "output_type": "execute_result"
    }
   ],
   "source": [
    "# Step 11: Solve the Problem\n",
    "model.solve()"
   ]
  },
  {
   "cell_type": "code",
   "execution_count": 51,
   "id": "2cc1c6b9",
   "metadata": {},
   "outputs": [
    {
     "name": "stdout",
     "output_type": "stream",
     "text": [
      "Status: Optimal\n",
      "Total Shipping Cost: 1260.0\n",
      "Ship 50.0 units of P1 from F1 to R1\n",
      "Ship 40.0 units of P2 from F1 to R2\n",
      "Ship 30.0 units of P3 from F1 to R2\n",
      "Ship 20.0 units of P1 from F1 to R3\n",
      "Ship 30.0 units of P3 from F1 to R3\n",
      "Ship 60.0 units of P2 from F2 to R1\n",
      "Ship 40.0 units of P3 from F2 to R1\n",
      "Ship 30.0 units of P1 from F2 to R2\n",
      "Ship 30.0 units of P2 from F2 to R3\n"
     ]
    }
   ],
   "source": [
    "# Step 12: Output Results\n",
    "print(\"Status:\", LpStatus[model.status])\n",
    "print(\"Total Shipping Cost:\", value(model.objective))\n",
    "\n",
    "for f in factories:\n",
    "    for r in regions:\n",
    "        for p in products:\n",
    "            qty = x[f][r][p].varValue\n",
    "            if qty > 0:\n",
    "                print(f\"Ship {qty} units of {p} from {f} to {r}\")"
   ]
  },
  {
   "cell_type": "code",
   "execution_count": null,
   "id": "ab253e5d",
   "metadata": {},
   "outputs": [],
   "source": []
  },
  {
   "cell_type": "code",
   "execution_count": null,
   "id": "c8588244",
   "metadata": {},
   "outputs": [],
   "source": []
  },
  {
   "cell_type": "code",
   "execution_count": null,
   "id": "73eead03",
   "metadata": {},
   "outputs": [],
   "source": []
  },
  {
   "cell_type": "code",
   "execution_count": null,
   "id": "67cebe63",
   "metadata": {},
   "outputs": [],
   "source": []
  }
 ],
 "metadata": {
  "kernelspec": {
   "display_name": "base",
   "language": "python",
   "name": "python3"
  },
  "language_info": {
   "codemirror_mode": {
    "name": "ipython",
    "version": 3
   },
   "file_extension": ".py",
   "mimetype": "text/x-python",
   "name": "python",
   "nbconvert_exporter": "python",
   "pygments_lexer": "ipython3",
   "version": "3.12.2"
  }
 },
 "nbformat": 4,
 "nbformat_minor": 5
}
